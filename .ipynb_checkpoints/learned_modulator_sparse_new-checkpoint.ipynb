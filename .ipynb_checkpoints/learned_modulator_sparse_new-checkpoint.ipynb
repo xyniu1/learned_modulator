{
 "cells": [
  {
   "cell_type": "code",
   "execution_count": 1,
   "id": "c5e4c315",
   "metadata": {},
   "outputs": [],
   "source": [
    "import numpy as np\n",
    "import matplotlib.pyplot as plt\n",
    "import seaborn as sns\n",
    "import torch\n",
    "import torchvision\n",
    "import torchvision.transforms as transforms\n",
    "# import ipynb_importer\n",
    "# import utils"
   ]
  },
  {
   "cell_type": "code",
   "execution_count": 2,
   "id": "cfd3c82c",
   "metadata": {},
   "outputs": [],
   "source": [
    "transform = transforms.Compose([\n",
    "#     transforms.Resize(196),\n",
    "#     transforms.CenterCrop(224),\n",
    "    transforms.ToTensor()\n",
    "])\n",
    "\n",
    "train = torchvision.datasets.MNIST(root='./', train=True, transform=transform, download=True)\n",
    "test = torchvision.datasets.MNIST(root='./', train=False, transform=transform, download=True)\n",
    "# train.data = train.data.float() / 255.0\n",
    "# train.data = (train.data - torch.mean(train.data, dim=(1,2), keepdim=True)) / torch.std(train.data, dim=(1,2), keepdim=True)\n",
    "# test.data = test.data / 255.0"
   ]
  },
  {
   "cell_type": "code",
   "execution_count": 3,
   "id": "b2766825",
   "metadata": {},
   "outputs": [
    {
     "data": {
      "image/png": "[encoded data removed]",
      "text/plain": [
       "<Figure size 432x288 with 10 Axes>"
      ]
     },
     "metadata": {
      "needs_background": "light"
     },
     "output_type": "display_data"
    }
   ],
   "source": [
    "def binary_class(data, classes):\n",
    "    # classes is a list of two numbers\n",
    "    idx = torch.where(torch.isin(data.targets, torch.Tensor(classes)))[0]\n",
    "    idx_1 = torch.where(data.targets[idx] == classes[0])[0]\n",
    "    idx_2 = torch.where(data.targets[idx] == classes[1])[0]\n",
    "    binary_labels = torch.zeros(len(idx))\n",
    "    binary_labels[idx_2] = 1.0\n",
    "    dataset = torch.utils.data.TensorDataset(data.data[idx] / 255.0, binary_labels)\n",
    "    dataset.data = data.data[idx] / 255.0\n",
    "    return dataset, idx_1, idx_2\n",
    "\n",
    "classes = [1,7]\n",
    "train_binary, idx_1, idx_2 = binary_class(train, classes)\n",
    "test_binary,_,_ = binary_class(test, classes)\n",
    "\n",
    "# sanity check: input data\n",
    "for i in range(10):\n",
    "    plt.subplot(2,5,i+1)\n",
    "    plt.imshow(train_binary[i][0], cmap='gray')\n",
    "\n",
    "batch_size = 10\n",
    "# Dataloader\n",
    "trainloader_binary = torch.utils.data.DataLoader(train_binary, batch_size=batch_size, shuffle=True, num_workers=2)\n",
    "testloader_binary = torch.utils.data.DataLoader(test_binary, batch_size=batch_size, shuffle=False, num_workers=2)"
   ]
  },
  {
   "cell_type": "code",
   "execution_count": 4,
   "id": "b5990611",
   "metadata": {},
   "outputs": [],
   "source": [
    "# model architecture\n",
    "M = len(torch.flatten(train[0][0]))\n",
    "n1 = 16\n",
    "n1_junk = 64\n",
    "n_classes = 10\n",
    "if torch.cuda.is_available():\n",
    "    device = torch.device(\"cuda:0\")\n",
    "else:\n",
    "    device = torch.device(\"cpu\")"
   ]
  },
  {
   "cell_type": "code",
   "execution_count": 5,
   "id": "e1b1d08d",
   "metadata": {},
   "outputs": [],
   "source": [
    "from torch import nn\n",
    "import torch.nn.functional as F\n",
    "\n",
    "def training(model, dataloader, optimizer, criterion, num_epoch=10, device='cpu', binary=False):\n",
    "    model.to(device)\n",
    "    model.train()\n",
    "    accuracy = []\n",
    "    correct = 0\n",
    "    total = 0\n",
    "    for epoch in range(num_epoch):  # loop over the dataset multiple times\n",
    "        running_loss = 0.0\n",
    "        for i, data in enumerate(dataloader, 0):\n",
    "            # get the inputs; data is a list of [inputs, labels]\n",
    "            inputs, labels = data[0].to(device), data[1].to(device)\n",
    "            inputs = torch.squeeze(torch.flatten(inputs, start_dim=2), dim=1).float()\n",
    "            # zero the parameter gradients\n",
    "            optimizer.zero_grad()\n",
    "            # forward + backward + optimize\n",
    "            output = model(inputs)\n",
    "            loss = criterion(output, labels)\n",
    "            loss.backward()\n",
    "            optimizer.step()\n",
    "\n",
    "            # print statistics\n",
    "            running_loss += loss.item()\n",
    "            if binary:\n",
    "                predicted = torch.where(output.data < 0.5, 0, 1)\n",
    "            else:\n",
    "                _, predicted = torch.max(output.data, 1)\n",
    "            total += labels.size(0)\n",
    "            correct += (predicted == labels).sum().item()\n",
    "            accuracy.append(correct/total)\n",
    "        print('(Epoch %d) loss: %.3f, accuracy: %.3f'%(epoch, running_loss/total, correct/total))\n",
    "    return model, accuracy"
   ]
  },
  {
   "cell_type": "code",
   "execution_count": 6,
   "id": "b088f2c2",
   "metadata": {},
   "outputs": [],
   "source": [
    "trainloader = torch.utils.data.DataLoader(train, batch_size=batch_size, shuffle=True, num_workers=2)\n",
    "testloader = torch.utils.data.DataLoader(test, batch_size=batch_size, shuffle=False, num_workers=2)"
   ]
  },
  {
   "cell_type": "code",
   "execution_count": 7,
   "id": "d398cf6c",
   "metadata": {},
   "outputs": [],
   "source": [
    "# # pre-training w1\n",
    "# class pre_one_layer(torch.nn.Module):\n",
    "#     def __init__(self, M, n1, n_classes):\n",
    "#         super().__init__()\n",
    "#         self.M = M\n",
    "#         self.n1 = n1\n",
    "#         w1s = torch.Tensor(self.M).to(device)\n",
    "#         self.w1s = torch.nn.Parameter(w1s, requires_grad=True)\n",
    "#         torch.nn.init.uniform_(self.w1s, -1.0/np.sqrt(M), 1.0/np.sqrt(M))\n",
    "#         self.fc2 = nn.Linear(n1, n_classes, bias=False)\n",
    "            \n",
    "#     def forward(self, x):\n",
    "#         k = int(self.M/self.n1)\n",
    "#         weight = torch.reshape(torch.ones(k).to(device), (1,1,-1))\n",
    "#         x = F.conv1d(torch.unsqueeze(x*self.w1s, 1), weight, stride=k)\n",
    "#         x = torch.squeeze(x,1)\n",
    "#         x = F.relu(x)\n",
    "#         x = self.fc2(x)\n",
    "#         return x\n",
    "\n",
    "# batch_size = 64\n",
    "# # Dataloader\n",
    "# model_pre_one = pre_one_layer(M, n1, n_classes)\n",
    "# criterion = torch.nn.CrossEntropyLoss()\n",
    "# optimizer = torch.optim.Adam(model_pre_one.parameters())\n",
    "# num_epoch = 10\n",
    "# model_pre_one, accuracy_pre_one = training(model_pre_one, trainloader, optimizer, criterion, num_epoch=num_epoch, device=device)\n",
    "# w1 = list(model_pre_one.parameters())[0]\n",
    "# torch.save(w1, 'w1s_16.pt')"
   ]
  },
  {
   "cell_type": "code",
   "execution_count": 7,
   "id": "385a4ae8",
   "metadata": {},
   "outputs": [
    {
     "name": "stdout",
     "output_type": "stream",
     "text": [
      "tensor([[1.5374e-04, 2.6653e-03, 1.7035e-01, 2.3957e-01, 6.4856e-01, 1.8153e+00,\n",
      "         1.5826e+00, 2.8170e+00, 1.0077e+00, 2.2351e+00, 6.5270e-01, 1.5948e+00,\n",
      "         1.0969e+00, 1.8866e+00, 9.7085e-01, 5.1440e-01]])\n"
     ]
    }
   ],
   "source": [
    "w1 = torch.load('w1s_16.pt').data\n",
    "# print(w1)\n",
    "k = int(M/n1)\n",
    "flat = torch.flatten(train_binary.data.float(), start_dim=1)*w1.to('cpu')\n",
    "weight = torch.reshape(torch.ones(k), (1,1,-1))\n",
    "lambda_1 = torch.mean(F.relu(F.conv1d(torch.unsqueeze(flat, 1), weight, stride=k)), dim=0)\n",
    "print(lambda_1)"
   ]
  },
  {
   "cell_type": "code",
   "execution_count": 9,
   "id": "bdc65a88",
   "metadata": {
    "scrolled": true
   },
   "outputs": [],
   "source": [
    "# class baseline_one_layer(torch.nn.Module):\n",
    "#     def __init__(self, n1, w1, n1_junk, junk=False, junk_mean=None, sigma_junk=None):\n",
    "#         super().__init__()\n",
    "#         self.w1 = w1\n",
    "#         self.n1 = n1\n",
    "#         self.n1_junk = n1_junk\n",
    "#         self.junk = junk\n",
    "#         self.junk_mean = junk_mean\n",
    "#         self.sigma_junk = sigma_junk\n",
    "#         if junk:\n",
    "#             n1_actual = n1 + n1_junk\n",
    "#         else:\n",
    "#             n1_actual = n1\n",
    "#         self.gain_layer = nn.Linear(n1_actual, 1, bias=False)\n",
    "\n",
    "#     def forward(self, x):\n",
    "#         k = int(len(self.w1)/self.n1)\n",
    "#         weight = torch.reshape(torch.ones(k), (1,1,-1)).to(device)\n",
    "#         x = F.conv1d(torch.unsqueeze(torch.flatten(x, start_dim=1)*w1,1), weight, stride=k)\n",
    "#         x = torch.squeeze(x, 1)\n",
    "#         x = F.relu(x)\n",
    "#         if self.junk:\n",
    "#             x = torch.cat((x, torch.normal(self.junk_mean, self.sigma_junk, size=(x.size()[0],self.n1_junk)).to(device)),\n",
    "#                          dim=1)\n",
    "#         x = self.gain_layer(x)\n",
    "#         x = torch.sigmoid(x)\n",
    "#         x = torch.squeeze(x, dim=-1)\n",
    "#         return x\n",
    "\n",
    "# junk = True\n",
    "# junk_mean = torch.mean(lambda_1).item()\n",
    "# # junk_mean = 0.0\n",
    "# sigma_junk = torch.std(lambda_1).item()\n",
    "\n",
    "# num_epoch = 10\n",
    "# num_rep = 10\n",
    "# accuracy_baseline_one = []\n",
    "# for i in range(num_rep):\n",
    "#     model_baseline_one = baseline_one_layer(n1, w1, n1_junk, junk, junk_mean, sigma_junk)\n",
    "#     criterion = torch.nn.BCELoss()\n",
    "#     optimizer = torch.optim.Adam(model_baseline_one.parameters())\n",
    "#     _, acc = training(model_baseline_one, trainloader_binary, \n",
    "#                       optimizer, criterion, num_epoch=num_epoch, device=device, binary=True)\n",
    "#     accuracy_baseline_one.append(acc)"
   ]
  },
  {
   "cell_type": "code",
   "execution_count": 10,
   "id": "4ea3fbaf",
   "metadata": {},
   "outputs": [],
   "source": [
    "# torch.save(accuracy_baseline_one, 'accuracy_baseline_one.pt')"
   ]
  },
  {
   "cell_type": "code",
   "execution_count": 8,
   "id": "acf69039",
   "metadata": {},
   "outputs": [],
   "source": [
    "accuracy_baseline_one = torch.load('accuracy_baseline_one.pt')"
   ]
  },
  {
   "cell_type": "code",
   "execution_count": 12,
   "id": "8f28b7e2",
   "metadata": {},
   "outputs": [],
   "source": [
    "class modulator_one_layer(torch.nn.Module):\n",
    "    # allow the flexibility of adding junk neurons\n",
    "    # allow the flexibility of weight correction\n",
    "    def __init__(self, n1, w1, m, sigma_m, T, tanh_k, a_cont, lr_a, sigma_w, sigma_s, device='cpu',\n",
    "                 junk=False, junk_mean=None, sigma_junk=None, n1_junk=None, correction=True):\n",
    "        # m is of size (batch)\n",
    "        super().__init__()\n",
    "        self.n1 = n1\n",
    "        self.w1 = w1\n",
    "        self.m = m\n",
    "        self.sigma_m = sigma_m\n",
    "        self.T = T\n",
    "        self.tanh_k = tanh_k\n",
    "        self.a_cont = a_cont\n",
    "        self.lr_a = lr_a\n",
    "        self.device = device\n",
    "        self.junk = junk\n",
    "        if junk:\n",
    "            self.n1_junk = n1_junk\n",
    "            self.junk_mean = junk_mean\n",
    "            self.sigma_junk = sigma_junk\n",
    "            self.n1_actual = n1 + n1_junk\n",
    "        else:\n",
    "            self.n1_actual = n1\n",
    "        w = torch.Tensor(self.n1_actual).to(device)\n",
    "#         s = torch.Tensor(self.n1_actual).to(device)\n",
    "        s = torch.Tensor(self.n1).to(device)\n",
    "        self.w = torch.nn.Parameter(w, requires_grad=True)\n",
    "        self.s = torch.nn.Parameter(s)\n",
    "        torch.nn.init.normal_(self.w, 0, sigma_w)\n",
    "        torch.nn.init.normal_(self.s, 0, sigma_s)\n",
    "        self.count = 0\n",
    "\n",
    "    def forward(self, x):\n",
    "        k = int(len(self.w1)/self.n1)\n",
    "        weight = torch.reshape(torch.ones(k), (1,1,-1)).to(device)\n",
    "        x = F.conv1d(torch.unsqueeze(torch.flatten(x, start_dim=1)*w1,1), weight, stride=k)\n",
    "        x = torch.squeeze(x, 1)\n",
    "        x = F.relu(x)\n",
    "        if junk:\n",
    "            x = torch.cat((x, torch.normal(self.junk_mean, self.sigma_junk, size=(x.size()[0],self.n1_junk)).to(device)),\n",
    "                         dim=1)\n",
    "        if correction:\n",
    "            fluc = torch.exp(torch.outer(self.m, self.w) - self.sigma_m*self.sigma_m*self.w*self.w/2.0) # (T, num_neurons)\n",
    "        else:\n",
    "            fluc = torch.exp(torch.outer(self.m, self.w))\n",
    "        k = torch.mul(torch.unsqueeze(x, dim=0), torch.unsqueeze(fluc, dim=1)) # (T, batch, num_neurons)\n",
    "        a = torch.sum(torch.mul(torch.reshape(self.m, (-1,1,1)), k), dim=0) / self.T # (batch, num_neurons)\n",
    "#         print(a)\n",
    "#         a = self.lr_a * a + (1-self.lr_a) * a_cont\n",
    "        a = self.lr_a * a + (1-self.lr_a) * self.a_cont\n",
    "\n",
    "        if self.count > 10000:\n",
    "#             tanh_k_ = self.tanh_k * np.log(self.count)\n",
    "            tanh_k_ = 1000.0 # an arbitrary large number\n",
    "        else:\n",
    "            tanh_k_ = self.tanh_k\n",
    "        sign = torch.mean(torch.abs(torch.tanh(tanh_k_ * self.s.data)))*torch.ones(self.n1_actual).to(device)\n",
    "        sign[:self.n1] = torch.tanh(tanh_k_ * self.s)\n",
    "        # one sample can only compute the gradient once\n",
    "        x = torch.sum(sign * a * torch.mean(k, dim=0), dim=1)\n",
    "#         print([torch.sum((sign * a * torch.mean(k, dim=0))[0,:16]), torch.sum((sign * a * torch.mean(k, dim=0))[0,16:])])\n",
    "        x = torch.sigmoid(x)\n",
    "        self.a_cont = torch.mean(a, dim=0).data\n",
    "#         print(self.a_cont)\n",
    "        self.count += x.size()[0]\n",
    "        return x"
   ]
  },
  {
   "cell_type": "code",
   "execution_count": 13,
   "id": "97f1dc47",
   "metadata": {},
   "outputs": [],
   "source": [
    "import copy\n",
    "\n",
    "def training_corr(model, dataloader, optimizer, criterion, num_epoch=10, device='cpu', binary=False):\n",
    "    model.to(device)\n",
    "    model.train()\n",
    "    accuracy = []\n",
    "    correlation = [0]\n",
    "    signs = []\n",
    "    modulation_weights = []\n",
    "    dp = []\n",
    "    sum1 = torch.zeros(n1).to(device)\n",
    "    sum2 = torch.zeros(n1).to(device)\n",
    "    ss1 = torch.zeros(n1).to(device)\n",
    "    ss2 = torch.zeros(n1).to(device)\n",
    "    count1 = 0\n",
    "    count2 = 0\n",
    "    dummy = torch.empty((2, n1)).to(device)\n",
    "    correct = 0\n",
    "    total = 0\n",
    "    for epoch in range(num_epoch):  # loop over the dataset multiple times\n",
    "        running_loss = 0.0\n",
    "        for i, data in enumerate(dataloader, 0):\n",
    "            # get the inputs; data is a list of [inputs, labels]\n",
    "            inputs, labels = data[0].to(device), data[1].to(device)\n",
    "            inputs = torch.squeeze(torch.flatten(inputs, start_dim=2), dim=1).float()\n",
    "            \n",
    "            # zero the parameter gradients\n",
    "            optimizer.zero_grad()\n",
    "            # forward + backward + optimize\n",
    "            output = model(inputs)\n",
    "            loss = criterion(output, labels)\n",
    "            loss.backward()\n",
    "            optimizer.step()\n",
    "            \n",
    "            # compute the correlation between d' and w\n",
    "            idx1 = torch.where(labels==0)[0]\n",
    "            idx2 = torch.where(labels==1)[0]\n",
    "            count1 += len(idx1)\n",
    "            count2 += len(idx2)\n",
    "            x1 = F.relu(F.conv1d(torch.unsqueeze(torch.flatten(inputs[idx1], start_dim=1)*w1,1), weight, stride=k))\n",
    "            x2 = F.relu(F.conv1d(torch.unsqueeze(torch.flatten(inputs[idx2], start_dim=1)*w1,1), weight, stride=k))\n",
    "            sum1 += torch.sum(x1, dim=0).squeeze(0)\n",
    "            sum2 += torch.sum(x2, dim=0).squeeze(0)\n",
    "            ss1 += torch.sum(x1*x1, dim=0).squeeze(0)\n",
    "            ss2 += torch.sum(x2*x2, dim=0).squeeze(0)\n",
    "            mean1 = sum1 / count1\n",
    "            mean2 = sum2 / count2            \n",
    "            sd1 = ss1/count1 - mean1*mean1\n",
    "            sd2 = ss2/count2 - mean2*mean2\n",
    "            d_prime = torch.abs(mean1-mean2)/(torch.sqrt(sd1*sd1+sd2*sd2) / 2.0 + 0.001)\n",
    "            w = copy.deepcopy(list(model.parameters())[0].data)\n",
    "            dummy[0] = d_prime\n",
    "            dummy[1] = w[:n1]\n",
    "            correlation.append(torch.corrcoef(dummy)[0,1])\n",
    "            \n",
    "            # check parameters in the training process\n",
    "            s = copy.deepcopy(list(model.parameters())[1].data)\n",
    "            modulation_weights.append(w)\n",
    "            signs.append(s)\n",
    "            dp.append(d_prime)\n",
    "\n",
    "\n",
    "            # print statistics\n",
    "            running_loss += loss.item()\n",
    "            if binary:\n",
    "                predicted = torch.where(output.data < 0.5, 0, 1)\n",
    "            else:\n",
    "                _, predicted = torch.max(output.data, 1)\n",
    "            total += labels.size(0)\n",
    "            correct += (predicted == labels).sum().item()\n",
    "            accuracy.append(correct/total)\n",
    "        print('(Epoch %d) loss: %.3f, accuracy: %.3f'%(epoch, running_loss/total, correct/total))\n",
    "    return model, accuracy, correlation, modulation_weights, signs, dp"
   ]
  },
  {
   "cell_type": "code",
   "execution_count": 14,
   "id": "b90e6060",
   "metadata": {},
   "outputs": [
    {
     "name": "stdout",
     "output_type": "stream",
     "text": [
      "(Epoch 0) loss: 0.028, accuracy: 0.960\n",
      "(Epoch 1) loss: 0.010, accuracy: 0.974\n",
      "(Epoch 0) loss: 0.024, accuracy: 0.961\n",
      "(Epoch 1) loss: 0.011, accuracy: 0.974\n",
      "(Epoch 0) loss: 0.019, accuracy: 0.967\n",
      "(Epoch 1) loss: 0.006, accuracy: 0.977\n",
      "(Epoch 0) loss: 0.025, accuracy: 0.961\n",
      "(Epoch 1) loss: 0.009, accuracy: 0.974\n",
      "(Epoch 0) loss: 0.021, accuracy: 0.956\n",
      "(Epoch 1) loss: 0.007, accuracy: 0.972\n",
      "(Epoch 0) loss: 0.031, accuracy: 0.948\n",
      "(Epoch 1) loss: 0.007, accuracy: 0.968\n",
      "(Epoch 0) loss: 0.017, accuracy: 0.967\n",
      "(Epoch 1) loss: 0.008, accuracy: 0.978\n",
      "(Epoch 0) loss: 0.019, accuracy: 0.964\n",
      "(Epoch 1) loss: 0.009, accuracy: 0.976\n",
      "(Epoch 0) loss: 0.038, accuracy: 0.955\n",
      "(Epoch 1) loss: 0.014, accuracy: 0.971\n",
      "(Epoch 0) loss: 0.016, accuracy: 0.973\n",
      "(Epoch 1) loss: 0.007, accuracy: 0.981\n"
     ]
    }
   ],
   "source": [
    "sigma_w = 0.3\n",
    "sigma_s = 0.02\n",
    "sigma_m = 0.1\n",
    "# m_mean = 0.0\n",
    "m_mean = 1.0\n",
    "# T = 50\n",
    "T = 200\n",
    "m = torch.normal(m_mean, sigma_m, size=(T,))\n",
    "m = m.to(device)\n",
    "lr_a = 0.1\n",
    "tanh_k = 10.0\n",
    "# tanh_k = 50.0\n",
    "junk = True\n",
    "junk_mean = torch.mean(lambda_1).item()\n",
    "# junk_mean = 0.0\n",
    "sigma_junk = torch.std(lambda_1).item()\n",
    "if junk:\n",
    "    a_cont = torch.normal(0, 0.1, size=(n1 + n1_junk,))\n",
    "else:\n",
    "    a_cont = torch.normal(0, 0.1, size=(n1,))\n",
    "a_cont = a_cont.to(device)\n",
    "correction = True\n",
    "\n",
    "model_modulator_one = modulator_one_layer(n1, w1, m, sigma_m, T, tanh_k, a_cont, lr_a, sigma_w, sigma_s, device=device,\n",
    "                 junk=junk, junk_mean=junk_mean, sigma_junk=sigma_junk, n1_junk=n1_junk, correction=correction)\n",
    "\n",
    "k = int(len(w1)/n1)\n",
    "weight = torch.reshape(torch.ones(k), (1,1,-1)).to(device)\n",
    "w1 = w1.to(device)\n",
    "num_epoch = 2\n",
    "\n",
    "num_rep = 10\n",
    "accuracy_modulator_one = []\n",
    "correlation = []\n",
    "modulator_weights = []\n",
    "signs = []\n",
    "for i in range(num_rep):\n",
    "    model_modulator_one = modulator_one_layer(n1, w1, m, sigma_m, T, tanh_k, a_cont, lr_a, \n",
    "                                              sigma_w, sigma_s, device=device,\n",
    "                 junk=junk, junk_mean=junk_mean, sigma_junk=sigma_junk, n1_junk=n1_junk, correction=correction)\n",
    "    criterion = torch.nn.BCELoss()\n",
    "    optimizer = torch.optim.Adam([{'params': list(model_modulator_one.parameters())[0], 'lr':0.01},\n",
    "                              {'params': list(model_modulator_one.parameters())[1]}])\n",
    "    model_modulator_one, acc, corr, w, s, dp = training_corr(model_modulator_one, trainloader_binary, \n",
    "                              optimizer, criterion, num_epoch=num_epoch, device=device, binary=True)\n",
    "    accuracy_modulator_one.append(acc)\n",
    "    correlation.append(corr)\n",
    "    modulator_weights.append(w)\n",
    "    signs.append(s)"
   ]
  },
  {
   "cell_type": "code",
   "execution_count": 15,
   "id": "22ba03fb",
   "metadata": {},
   "outputs": [],
   "source": [
    "torch.save(accuracy_modulator_one, 'accuracy_modulator_one.pt')\n",
    "torch.save(correlation, 'correlation.pt')\n",
    "torch.save(modulator_weights, 'modulator_weights.pt')\n",
    "torch.save(signs, 'signs.pt')"
   ]
  },
  {
   "cell_type": "code",
   "execution_count": 2,
   "id": "e296a48a",
   "metadata": {},
   "outputs": [],
   "source": [
    "accuracy_modulator_one = torch.load('accuracy_modulator_one.pt')\n",
    "correlation = torch.load('correlation.pt')\n",
    "modulator_weights = torch.load('modulator_weights.pt')\n",
    "signs = torch.load('signs.pt')"
   ]
  },
  {
   "cell_type": "code",
   "execution_count": 3,
   "id": "dd76acd0",
   "metadata": {},
   "outputs": [],
   "source": [
    "def plot_sd(array, axis=0, alpha=0.2, label=None, color='tab:blue', linewidth=1.0):\n",
    "    # axis: along which array is averaged\n",
    "    mean = np.mean(array, axis=axis)\n",
    "    sd = np.std(array, axis=axis)\n",
    "    plt.plot(mean, label=label, color=color, linewidth=linewidth)\n",
    "    plt.fill_between(np.arange(len(array[0])), mean-sd, mean+sd, alpha=alpha, color=color)\n",
    "\n",
    "def unpack_list_of_tensor(l):\n",
    "    l_new = []\n",
    "    for i in range(len(l)):\n",
    "        l_new.append(torch.stack(l[i]))\n",
    "    return torch.stack(l_new)\n",
    "\n",
    "def unpack_list_of_list(l):\n",
    "    l_new = []\n",
    "    for i in range(len(l)):\n",
    "        l_new.append(torch.Tensor(l[i]))\n",
    "    return torch.stack(l_new)"
   ]
  },
  {
   "cell_type": "code",
   "execution_count": 19,
   "id": "f581622d",
   "metadata": {},
   "outputs": [
    {
     "data": {
      "image/png": "[encoded data removed]",
      "text/plain": [
       "<Figure size 432x288 with 1 Axes>"
      ]
     },
     "metadata": {
      "needs_background": "light"
     },
     "output_type": "display_data"
    }
   ],
   "source": [
    "plt.figure(figsize=(6,4))\n",
    "plot_sd(unpack_list_of_list(accuracy_modulator_one).cpu().numpy()[:,5:1005], color='#C33C54', label='Modulator',\n",
    "       linewidth=3)\n",
    "plot_sd(unpack_list_of_list(accuracy_baseline_one).cpu().numpy()[:,5:1005], label='Baseline', linewidth=3, color='#E9EB87')\n",
    "plt.legend(loc=4, prop={'size': 12})\n",
    "plt.xticks(fontsize=12)\n",
    "plt.yticks(fontsize=12)\n",
    "plt.xlabel('Every 10 samples', fontsize=12)\n",
    "plt.ylabel('Accuracy', fontsize=12)\n",
    "plt.tight_layout()\n",
    "plt.savefig('result_1_accuracy.png', transparent=True)"
   ]
  },
  {
   "cell_type": "code",
   "execution_count": 19,
   "id": "11b6618f",
   "metadata": {},
   "outputs": [
    {
     "data": {
      "text/plain": [
       "13010"
      ]
     },
     "execution_count": 19,
     "metadata": {},
     "output_type": "execute_result"
    }
   ],
   "source": [
    "len(accuracy_baseline_one[0])"
   ]
  },
  {
   "cell_type": "code",
   "execution_count": 4,
   "id": "437fd5b1",
   "metadata": {},
   "outputs": [
    {
     "data": {
      "image/png": "[encoded data removed]",
      "text/plain": [
       "<Figure size 432x288 with 1 Axes>"
      ]
     },
     "metadata": {
      "needs_background": "light"
     },
     "output_type": "display_data"
    }
   ],
   "source": [
    "plt.figure(figsize=(6,4))\n",
    "plot_sd(unpack_list_of_list(correlation).cpu().numpy()[:,40:1040], linewidth=3.0, color='limegreen')\n",
    "plt.xticks(fontsize=12)\n",
    "plt.yticks(fontsize=12)\n",
    "plt.xlabel('Every 10 samples', fontsize=12)\n",
    "plt.ylabel('Correlation', fontsize=12)\n",
    "plt.tight_layout()\n",
    "plt.savefig('result_1_correlation.png', transparent=True)"
   ]
  },
  {
   "cell_type": "code",
   "execution_count": 28,
   "id": "bacfafc9",
   "metadata": {},
   "outputs": [
    {
     "data": {
      "image/png": "[encoded data removed]",
      "text/plain": [
       "<Figure size 432x288 with 2 Axes>"
      ]
     },
     "metadata": {},
     "output_type": "display_data"
    }
   ],
   "source": [
    "import seaborn as sns\n",
    "sns.set(font_scale=1.1)\n",
    "sns.heatmap(unpack_list_of_tensor(modulator_weights)[0,:1001].cpu().numpy().T, xticklabels=200, yticklabels=16)\n",
    "plt.xlabel('Every 10 samples', fontsize=12)\n",
    "plt.ylabel('Neuron index', fontsize=12)\n",
    "plt.tight_layout()\n",
    "plt.savefig('result_1_weights.png', transparent=True)"
   ]
  },
  {
   "cell_type": "code",
   "execution_count": 30,
   "id": "065e5ad6",
   "metadata": {},
   "outputs": [],
   "source": [
    "sns.set()"
   ]
  },
  {
   "cell_type": "code",
   "execution_count": null,
   "id": "1d7ad3b9",
   "metadata": {},
   "outputs": [],
   "source": []
  }
 ],
 "metadata": {
  "kernelspec": {
   "display_name": "manifold",
   "language": "python",
   "name": "manifold"
  },
  "language_info": {
   "codemirror_mode": {
    "name": "ipython",
    "version": 3
   },
   "file_extension": ".py",
   "mimetype": "text/x-python",
   "name": "python",
   "nbconvert_exporter": "python",
   "pygments_lexer": "ipython3",
   "version": "3.9.7"
  }
 },
 "nbformat": 4,
 "nbformat_minor": 5
}
