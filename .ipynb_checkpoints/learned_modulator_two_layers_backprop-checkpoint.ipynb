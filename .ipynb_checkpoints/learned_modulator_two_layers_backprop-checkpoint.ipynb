{
 "cells": [
  {
   "cell_type": "code",
   "execution_count": 1,
   "id": "bca426c2",
   "metadata": {},
   "outputs": [],
   "source": [
    "import numpy as np\n",
    "import matplotlib.pyplot as plt\n",
    "import seaborn as sns\n",
    "import torch\n",
    "import torchvision\n",
    "import torchvision.transforms as transforms\n",
    "# import ipynb_importer\n",
    "# import utils"
   ]
  },
  {
   "cell_type": "code",
   "execution_count": 2,
   "id": "e7a58fed",
   "metadata": {},
   "outputs": [],
   "source": [
    "transform = transforms.Compose([\n",
    "#     transforms.Resize(196),\n",
    "#     transforms.CenterCrop(224),\n",
    "    transforms.ToTensor()\n",
    "])\n",
    "\n",
    "train = torchvision.datasets.MNIST(root='./', train=True, transform=transform, download=True)\n",
    "test = torchvision.datasets.MNIST(root='./', train=False, transform=transform, download=True)\n",
    "# train.data = train.data.float() / 255.0\n",
    "# train.data = (train.data - torch.mean(train.data, dim=(1,2), keepdim=True)) / torch.std(train.data, dim=(1,2), keepdim=True)\n",
    "# test.data = test.data / 255.0"
   ]
  },
  {
   "cell_type": "code",
   "execution_count": 3,
   "id": "7bce2e9d",
   "metadata": {},
   "outputs": [
    {
     "data": {
      "image/png": "[encoded data removed]",
      "text/plain": [
       "<Figure size 432x288 with 10 Axes>"
      ]
     },
     "metadata": {
      "needs_background": "light"
     },
     "output_type": "display_data"
    }
   ],
   "source": [
    "def binary_class(data, classes):\n",
    "    # classes is a list of two numbers\n",
    "    idx = torch.where(torch.isin(data.targets, torch.Tensor(classes)))[0]\n",
    "    idx_1 = torch.where(data.targets[idx] == classes[0])[0]\n",
    "    idx_2 = torch.where(data.targets[idx] == classes[1])[0]\n",
    "    binary_labels = torch.zeros(len(idx))\n",
    "    binary_labels[idx_2] = 1.0\n",
    "    dataset = torch.utils.data.TensorDataset(data.data[idx] / 255.0, binary_labels)\n",
    "    dataset.data = data.data[idx] / 255.0\n",
    "    return dataset, idx_1, idx_2\n",
    "\n",
    "classes = [1,7]\n",
    "train_binary, idx_1, idx_2 = binary_class(train, classes)\n",
    "test_binary,_,_ = binary_class(test, classes)\n",
    "\n",
    "# sanity check: input data\n",
    "for i in range(10):\n",
    "    plt.subplot(2,5,i+1)\n",
    "    plt.imshow(train_binary[i][0], cmap='gray')\n",
    "\n",
    "batch_size = 10\n",
    "# Dataloader\n",
    "trainloader_binary = torch.utils.data.DataLoader(train_binary, batch_size=batch_size, shuffle=True, num_workers=2)\n",
    "testloader_binary = torch.utils.data.DataLoader(test_binary, batch_size=batch_size, shuffle=False, num_workers=2)"
   ]
  },
  {
   "cell_type": "code",
   "execution_count": 4,
   "id": "8699d005",
   "metadata": {},
   "outputs": [],
   "source": [
    "# model architecture\n",
    "M = len(torch.flatten(train[0][0]))\n",
    "n1 = 16\n",
    "n1_junk = 64\n",
    "n2 = 16\n",
    "n_classes = 10\n",
    "if torch.cuda.is_available():\n",
    "    device = torch.device(\"cuda:0\")\n",
    "else:\n",
    "    device = torch.device(\"cpu\")\n",
    "from torch import nn\n",
    "import torch.nn.functional as F"
   ]
  },
  {
   "cell_type": "code",
   "execution_count": 5,
   "id": "a18fb6cc",
   "metadata": {},
   "outputs": [
    {
     "name": "stdout",
     "output_type": "stream",
     "text": [
      "tensor([[1.5374e-04, 2.6653e-03, 1.7035e-01, 2.3957e-01, 6.4856e-01, 1.8153e+00,\n",
      "         1.5826e+00, 2.8170e+00, 1.0077e+00, 2.2351e+00, 6.5270e-01, 1.5948e+00,\n",
      "         1.0969e+00, 1.8866e+00, 9.7085e-01, 5.1440e-01]])\n"
     ]
    }
   ],
   "source": [
    "w1 = torch.load('w1s_16.pt').data\n",
    "# print(w1)\n",
    "k = int(M/n1)\n",
    "flat = torch.flatten(train_binary.data.float(), start_dim=1)*w1.to('cpu')\n",
    "weight = torch.reshape(torch.ones(k), (1,1,-1))\n",
    "lambda_1 = torch.mean(F.relu(F.conv1d(torch.unsqueeze(flat, 1), weight, stride=k)), dim=0)\n",
    "print(lambda_1)"
   ]
  },
  {
   "cell_type": "code",
   "execution_count": 19,
   "id": "ae2d5fb6",
   "metadata": {},
   "outputs": [],
   "source": [
    "class modulator_two_layers(torch.nn.Module):\n",
    "    # allow the flexibility of adding junk neurons\n",
    "    # allow the flexibility of weight correction\n",
    "    def __init__(self, n1, w1, n2, a2_cont, lr_a2,\n",
    "                 m, sigma_m, T, tanh_k, sigma_w, sigma_s, device='cpu',\n",
    "                 junk=False, junk_mean=None, sigma_junk=None, n1_junk=None, correction=True):\n",
    "        # m is of size (batch)\n",
    "        super().__init__()\n",
    "        self.n1 = n1\n",
    "        self.w1 = w1\n",
    "        self.m = m\n",
    "        self.sigma_m = sigma_m\n",
    "        self.T = T\n",
    "        self.tanh_k = tanh_k\n",
    "#         self.a_cont = a_cont\n",
    "#         self.lr_a = lr_a\n",
    "        self.device = device\n",
    "        self.junk = junk\n",
    "        self.n2 = n2\n",
    "        self.a2_cont = a2_cont\n",
    "        self.lr_a2 = lr_a2\n",
    "        if junk:\n",
    "            self.n1_junk = n1_junk\n",
    "            self.junk_mean = junk_mean\n",
    "            self.sigma_junk = sigma_junk\n",
    "            self.n1_actual = n1 + n1_junk\n",
    "        else:\n",
    "            self.n1_actual = n1\n",
    "        w = torch.Tensor(self.n1_actual).to(device)\n",
    "#         s = torch.Tensor(self.n1_actual).to(device)\n",
    "        s2 = torch.Tensor(self.n2).to(device)\n",
    "        w2 = torch.Tensor(self.n1_actual).to(device)\n",
    "        self.w = torch.nn.Parameter(w, requires_grad=True)\n",
    "#         self.s = torch.nn.Parameter(s)\n",
    "        self.s2 = torch.nn.Parameter(s2)\n",
    "        self.w2 = torch.nn.Parameter(w2)\n",
    "        torch.nn.init.normal_(self.w, 0, sigma_w)\n",
    "#         torch.nn.init.normal_(self.s, 0, sigma_s)\n",
    "        torch.nn.init.normal_(self.s2, 0, sigma_s)\n",
    "        torch.nn.init.normal_(self.w2, 0, sigma_w)\n",
    "        self.count = 0\n",
    "\n",
    "    def forward(self, x):\n",
    "        k = int(len(self.w1)/self.n1)\n",
    "        batch = x.size()[0]\n",
    "        weight = torch.reshape(torch.ones(k), (1,1,-1)).to(device)\n",
    "        x = F.conv1d(torch.unsqueeze(torch.flatten(x, start_dim=1)*w1,1), weight, stride=k)\n",
    "        x = torch.squeeze(x, 1)\n",
    "        x = F.relu(x)\n",
    "        lambda_1 = x\n",
    "        if junk:\n",
    "            x = torch.cat((x, torch.normal(self.junk_mean, self.sigma_junk, size=(x.size()[0],self.n1_junk)).to(device)),\n",
    "                         dim=1)\n",
    "        if correction:\n",
    "            fluc = torch.exp(torch.outer(self.m, self.w) - self.sigma_m*self.sigma_m*self.w*self.w/2.0) # (T, num_neurons)\n",
    "        else:\n",
    "            fluc = torch.exp(torch.outer(self.m, self.w))\n",
    "        k = torch.mul(torch.unsqueeze(x, dim=0), torch.unsqueeze(fluc, dim=1)) # (T, batch, num_neurons)\n",
    "#         a = torch.sum(torch.mul(torch.reshape(self.m, (-1,1,1)), k), dim=0) / self.T # (batch, num_neurons)\n",
    "# #         print(a)\n",
    "#         a = self.lr_a * a + (1-self.lr_a) * a_cont\n",
    "        if self.count > 10000:\n",
    "#             tanh_k_ = self.tanh_k * np.log(self.count)\n",
    "            tanh_k_ = 1000.0 # an arbitrary large number\n",
    "        else:\n",
    "            tanh_k_ = self.tanh_k\n",
    "#         sign = torch.tanh(tanh_k_ * self.s) # (n1_actual)\n",
    "        # one sample can only compute the gradient once\n",
    "#         k2 = torch.sum(torch.reshape(sign * a * k, (self.T, batch, self.n2, -1)), dim=-1) # (T, batch, n2)\n",
    "        k2 = torch.sum(torch.reshape(k * self.w2, (self.T, batch, self.n2, -1)), dim=-1)\n",
    "        a2 = torch.sum(torch.mul(torch.reshape(self.m, (-1,1,1)), k2), dim=0) / self.T # (batch, n2)\n",
    "        a2 = self.lr_a2 * a2 + (1-self.lr_a2) * a2_cont \n",
    "        sign2 = torch.tanh(tanh_k_ * self.s2)\n",
    "        x = torch.sum(sign2 * a2 * torch.mean(k2, dim=0), dim=1) # (batch)\n",
    "        x = torch.sigmoid(x)\n",
    "#         self.a_cont = torch.mean(a, dim=0)\n",
    "        self.a2_cont = torch.mean(a2, dim=0)\n",
    "        self.count += x.size()[0]\n",
    "        var2 = torch.mean(torch.var(k2, dim=0), dim=0)\n",
    "        return x, lambda_1, torch.mean(k2, dim=0), self.w2.data, torch.mean(a2, dim=0), var2"
   ]
  },
  {
   "cell_type": "code",
   "execution_count": 29,
   "id": "08934cb0",
   "metadata": {},
   "outputs": [],
   "source": [
    "import copy\n",
    "\n",
    "def training_corr(model, dataloader, optimizer, criterion, num_epoch=10, device='cpu', binary=False):\n",
    "    model.to(device)\n",
    "    model.train()\n",
    "    accuracy = []\n",
    "    correlation_w = [0]\n",
    "    correlation_w2 = [0]\n",
    "    correlation_a2 = [0]\n",
    "    correlation_var2 = [0]\n",
    "#     signs = []\n",
    "    signs2 = []\n",
    "    w2s = []\n",
    "    modulation_weights = []\n",
    "    dp = []\n",
    "    sum1_1 = torch.zeros(n1).to(device)\n",
    "    sum1_2 = torch.zeros(n1).to(device)\n",
    "    ss1_1 = torch.zeros(n1).to(device)\n",
    "    ss1_2 = torch.zeros(n1).to(device)\n",
    "    sum2_1 = torch.zeros(n2).to(device)\n",
    "    sum2_2 = torch.zeros(n2).to(device)\n",
    "    ss2_1 = torch.zeros(n2).to(device)\n",
    "    ss2_2 = torch.zeros(n2).to(device)\n",
    "    count1 = 0\n",
    "    count2 = 0\n",
    "    dummy = torch.empty((2, n1)).to(device)\n",
    "    dummy2 = torch.empty((2, n2)).to(device)\n",
    "    correct = 0\n",
    "    total = 0\n",
    "    for epoch in range(num_epoch):  # loop over the dataset multiple times\n",
    "        running_loss = 0.0\n",
    "        for i, data in enumerate(dataloader, 0):\n",
    "            # get the inputs; data is a list of [inputs, labels]\n",
    "            inputs, labels = data[0].to(device), data[1].to(device)\n",
    "            inputs = torch.squeeze(torch.flatten(inputs, start_dim=2), dim=1).float()\n",
    "            \n",
    "            # zero the parameter gradients\n",
    "            optimizer.zero_grad()\n",
    "            # forward + backward + optimize\n",
    "            output, lambda_1, lambda_2, w2, a2, var2 = model(inputs)\n",
    "            loss = criterion(output, labels)\n",
    "            loss.backward()\n",
    "            optimizer.step()\n",
    "            \n",
    "            # compute the correlation between d' and w\n",
    "            idx1 = torch.where(labels==0)[0]\n",
    "            idx2 = torch.where(labels==1)[0]\n",
    "            count1 += len(idx1)\n",
    "            count2 += len(idx2)\n",
    "#             k1_1 = F.relu(F.conv1d(torch.unsqueeze(torch.flatten(inputs[idx1], start_dim=1)*w1,1), weight, stride=k))\n",
    "#             k1_2 = F.relu(F.conv1d(torch.unsqueeze(torch.flatten(inputs[idx2], start_dim=1)*w1,1), weight, stride=k))            \n",
    "            sum1_1 += torch.sum(lambda_1[idx1], dim=0)\n",
    "            sum1_2 += torch.sum(lambda_1[idx2], dim=0)\n",
    "            ss1_1 += torch.sum(lambda_1[idx1]*lambda_1[idx1], dim=0)\n",
    "            ss1_2 += torch.sum(lambda_1[idx2]*lambda_1[idx2], dim=0)\n",
    "            mean1_1 = sum1_1 / count1\n",
    "            mean1_2 = sum1_2 / count2            \n",
    "            sd1_1 = ss1_1/count1 - mean1_1*mean1_1\n",
    "            sd1_2 = ss1_2/count2 - mean1_2*mean1_2\n",
    "            sum2_1 += torch.sum(lambda_2[idx1], dim=0)\n",
    "            sum2_2 += torch.sum(lambda_2[idx2], dim=0)\n",
    "            ss2_1 += torch.sum(lambda_2[idx1]*lambda_2[idx1], dim=0)\n",
    "            ss2_2 += torch.sum(lambda_2[idx2]*lambda_2[idx2], dim=0)\n",
    "            mean2_1 = sum2_1 / count1\n",
    "            mean2_2 = sum2_2 / count2            \n",
    "            sd2_1 = ss2_1/count1 - mean2_1*mean2_1\n",
    "            sd2_2 = ss2_2/count2 - mean2_2*mean2_2\n",
    "            d1_prime = torch.abs(mean1_1-mean1_2)/(torch.sqrt(sd1_1*sd1_1+sd1_2*sd1_2) / 2.0 + 0.001)\n",
    "            d2_prime = torch.abs(mean2_1-mean2_2)/(torch.sqrt(sd2_1*sd2_1+sd2_2*sd2_2) / 2.0 + 0.001)\n",
    "            \n",
    "            w = copy.deepcopy(list(model.parameters())[0].data)\n",
    "            dummy[0] = d1_prime\n",
    "            dummy[1] = w[:n1]\n",
    "            correlation_w.append(torch.corrcoef(dummy)[0,1])\n",
    "            dummy[1] = torch.abs(w2[:n1])\n",
    "            correlation_w2.append(torch.corrcoef(dummy)[0,1])\n",
    "            dummy2[0] = d2_prime\n",
    "            dummy2[1] = torch.abs(a2[:n1])\n",
    "            correlation_a2.append(torch.corrcoef(dummy2)[0,1])\n",
    "            dummy2[1] = var2\n",
    "            correlation_var2.append(torch.corrcoef(dummy2)[0,1])\n",
    "            \n",
    "            \n",
    "            # check parameters in the training process\n",
    "#             s = copy.deepcopy(list(model.parameters())[1].data)\n",
    "            modulation_weights.append(w)\n",
    "#             signs.append(s)\n",
    "            s2 = copy.deepcopy(list(model.parameters())[1].data)\n",
    "            signs2.append(s2)\n",
    "#             dp.append(d_prime)\n",
    "            w2 = copy.deepcopy(list(model.parameters())[2].data)\n",
    "            w2s.append(s2)\n",
    "\n",
    "\n",
    "            # print statistics\n",
    "            running_loss += loss.item()\n",
    "            if binary:\n",
    "                predicted = torch.where(output.data < 0.5, 0, 1)\n",
    "            else:\n",
    "                _, predicted = torch.max(output.data, 1)\n",
    "            total += labels.size(0)\n",
    "            correct += (predicted == labels).sum().item()\n",
    "            accuracy.append(correct/total)\n",
    "        print('(Epoch %d) loss: %.3f, accuracy: %.3f'%(epoch, running_loss/total, correct/total))\n",
    "    return model, accuracy, correlation_w, correlation_w2, correlation_a2, correlation_var2, modulation_weights, w2s, signs2"
   ]
  },
  {
   "cell_type": "code",
   "execution_count": 119,
   "id": "7125bfd8",
   "metadata": {},
   "outputs": [
    {
     "name": "stdout",
     "output_type": "stream",
     "text": [
      "(Epoch 0) loss: 0.009, accuracy: 0.969\n",
      "(Epoch 1) loss: 0.004, accuracy: 0.977\n"
     ]
    }
   ],
   "source": [
    "sigma_w = 0.3\n",
    "sigma_s = 0.02\n",
    "sigma_m = 0.1\n",
    "m_mean = 0.5\n",
    "# m_mean = 1.0\n",
    "# T = 50\n",
    "T = 200\n",
    "m = torch.normal(m_mean, sigma_m, size=(T,))\n",
    "m = m.to(device)\n",
    "lr_a = 0.1\n",
    "lr_a2 = 0.1\n",
    "tanh_k = 10.0\n",
    "# tanh_k = 50.0\n",
    "junk = True\n",
    "junk_mean = torch.mean(lambda_1).item()\n",
    "# junk_mean = 0.0\n",
    "sigma_junk = torch.std(lambda_1).item()\n",
    "if junk:\n",
    "    a_cont = torch.normal(0, 0.1, size=(n1 + n1_junk,))\n",
    "else:\n",
    "    a_cont = torch.normal(0, 0.1, size=(n1,))\n",
    "a_cont = a_cont.to(device)\n",
    "a2_cont = torch.normal(0, 0.1, size=(n2, ))\n",
    "a2_cont = a2_cont.to(device)\n",
    "correction = True\n",
    "\n",
    "# model_modulator_one = modulator_one_layer(n1, w1, m, sigma_m, T, tanh_k, a_cont, lr_a, sigma_w, sigma_s, device=device,\n",
    "#                  junk=junk, junk_mean=junk_mean, sigma_junk=sigma_junk, n1_junk=n1_junk, correction=correction)\n",
    "\n",
    "k = int(len(w1)/n1)\n",
    "weight = torch.reshape(torch.ones(k), (1,1,-1)).to(device)\n",
    "w1 = w1.to(device)\n",
    "num_epoch = 2\n",
    "\n",
    "num_rep = 1\n",
    "accuracy_modulator_two = []\n",
    "correlation_w = []\n",
    "correlation_w2 = []\n",
    "correlation_a2 = []\n",
    "correlation_var2 = []\n",
    "modulator_weights = []\n",
    "w2s = []\n",
    "signs2 = []\n",
    "for i in range(num_rep):\n",
    "    model_modulator_two = modulator_two_layers(n1, w1, n2, a2_cont, lr_a2,\n",
    "                 m, sigma_m, T, tanh_k, sigma_w, sigma_s, device='cpu',\n",
    "                 junk=junk, junk_mean=junk_mean, sigma_junk=sigma_junk, n1_junk=n1_junk, correction=correction)\n",
    "    criterion = torch.nn.BCELoss()\n",
    "    optimizer = torch.optim.Adam([{'params': list(model_modulator_two.parameters())[0], 'lr':0.05},\n",
    "                                  {'params': list(model_modulator_two.parameters())[1]},\n",
    "                                  {'params': list(model_modulator_two.parameters())[2], 'lr':0.001}])\n",
    "    model_modulator_two, acc, corr_w, corr_w2, corr_a2, corr_var2, w, w2, s2 = \\\n",
    "    training_corr(model_modulator_two, trainloader_binary, \n",
    "                              optimizer, criterion, num_epoch=num_epoch, device=device, binary=True)\n",
    "    accuracy_modulator_two.append(acc)\n",
    "    correlation_w.append(corr_w)\n",
    "    correlation_w2.append(corr_w2)\n",
    "    correlation_a2.append(corr_a2)\n",
    "    correlation_var2.append(corr_var2)\n",
    "    modulator_weights.append(w)\n",
    "    w2s.append(w2)\n",
    "    signs2.append(s2)"
   ]
  },
  {
   "cell_type": "code",
   "execution_count": 20,
   "id": "d5c97ced",
   "metadata": {},
   "outputs": [],
   "source": [
    "# torch.save(accuracy_modulator_two, 'accuracy_modulator_two.pt')\n",
    "# torsh.save(correlation_w, 'correlation_w.pt')\n",
    "# torch.save(correlation_a, 'correlation_a.pt')\n",
    "# torch.save(correlation_a2, 'correlation_a2.pt')\n",
    "# torch.save(correlation_var2, 'correlation_var2.pt')\n",
    "# torch.save(modulator_weights, 'modulator_weights_two_layers.pt')\n",
    "# torch.save(signs, 'signs_two_layers.pt')\n",
    "# torch.save(signs2, 'signs2_two_layers.pt')"
   ]
  },
  {
   "cell_type": "code",
   "execution_count": 31,
   "id": "df87f9f0",
   "metadata": {},
   "outputs": [],
   "source": [
    "# accuracy_modulator_two = torch.load('accuracy_modulator_two.pt')\n",
    "# correlation_w = torch.load('correlation_w.pt')\n",
    "# correlation_a = torch.load('correlation_a.pt')\n",
    "# correlation_a2 = torch.load('correlation_a2.pt')\n",
    "# correlation_var2 = torch.load('correlation_var2.pt')\n",
    "# modulator_weights = torch.load('modulator_weights_two_layers.pt')\n",
    "# signs = torch.load('signs_two_layers.pt')\n",
    "# signs2 = torch.load('signs2_two_layers.pt')\n",
    "\n",
    "accuracy_baseline_one = torch.load('accuracy_baseline_one.pt')"
   ]
  },
  {
   "cell_type": "code",
   "execution_count": 56,
   "id": "96a4acab",
   "metadata": {},
   "outputs": [],
   "source": [
    "def plot_sd(array, axis=0, alpha=0.2, label=None, color='tab:blue', linewidth=1.0):\n",
    "    # axis: along which array is averaged\n",
    "    mean = np.mean(array, axis=axis)\n",
    "    sd = np.std(array, axis=axis)\n",
    "    plt.plot(mean, label=label, color=color, linewidth=linewidth)\n",
    "    plt.fill_between(np.arange(len(array[0])), mean-sd, mean+sd, alpha=alpha, color=color)\n",
    "\n",
    "def unpack_list_of_tensor(l):\n",
    "    l_new = []\n",
    "    for i in range(len(l)):\n",
    "        l_new.append(torch.stack(l[i]))\n",
    "    return torch.stack(l_new)\n",
    "\n",
    "def unpack_list_of_list(l):\n",
    "    l_new = []\n",
    "    for i in range(len(l)):\n",
    "        l_new.append(torch.Tensor(l[i]))\n",
    "    return torch.stack(l_new)"
   ]
  },
  {
   "cell_type": "code",
   "execution_count": 120,
   "id": "24a4c9fa",
   "metadata": {},
   "outputs": [],
   "source": [
    "correlation_w_avg = unpack_list_of_list(correlation_w).cpu().numpy()\n",
    "length = correlation_w_avg.shape[1]\n",
    "correlation_w_avg = np.divide(np.cumsum(correlation_w_avg, axis=1), np.arange(length)+1)\n",
    "correlation_w2_avg = unpack_list_of_list(correlation_w2).cpu().numpy()\n",
    "correlation_w2_avg = np.divide(np.cumsum(correlation_w2_avg, axis=1), np.arange(length)+1)\n",
    "correlation_var2_avg = unpack_list_of_list(correlation_var2).cpu().numpy()\n",
    "correlation_var2_avg = np.divide(np.cumsum(correlation_var2_avg, axis=1), np.arange(length)+1)\n",
    "correlation_a2_avg = unpack_list_of_list(correlation_a2).cpu().numpy()\n",
    "correlation_a2_avg = np.divide(np.cumsum(correlation_a2_avg, axis=1), np.arange(length)+1)"
   ]
  },
  {
   "cell_type": "code",
   "execution_count": 122,
   "id": "20207c0d",
   "metadata": {},
   "outputs": [
    {
     "data": {
      "image/png": "[encoded data removed]",
      "text/plain": [
       "<Figure size 432x288 with 1 Axes>"
      ]
     },
     "metadata": {
      "needs_background": "light"
     },
     "output_type": "display_data"
    }
   ],
   "source": [
    "plt.figure(figsize=(6,4))\n",
    "plot_sd(correlation_w_avg[:,5:2000], linewidth=3.0, color='limegreen', label='Layer 1')\n",
    "plot_sd(correlation_w2_avg[:,5:2000], linewidth=3.0, color='black', label='w2')\n",
    "plot_sd(correlation_var2_avg[:,5:2000], linewidth=3.0, color='darkgreen', label='Layer 2')\n",
    "# plot_sd(correlation_a2_avg, linewidth=3.0, color='purple')\n",
    "\n",
    "plt.xticks(fontsize=12)\n",
    "plt.yticks(fontsize=12)\n",
    "plt.xlabel('Every 10 samples', fontsize=12)\n",
    "plt.ylabel('Correlation', fontsize=12)\n",
    "plt.legend(loc=4, fontsize=12)\n",
    "plt.tight_layout()\n",
    "plt.savefig('result_3_correlation_2.png', transparent=True)"
   ]
  },
  {
   "cell_type": "code",
   "execution_count": 123,
   "id": "5af37364",
   "metadata": {},
   "outputs": [
    {
     "data": {
      "image/png": "[encoded data removed]",
      "text/plain": [
       "<Figure size 432x288 with 1 Axes>"
      ]
     },
     "metadata": {
      "needs_background": "light"
     },
     "output_type": "display_data"
    }
   ],
   "source": [
    "plt.figure(figsize=(6,4))\n",
    "plot_sd(unpack_list_of_list(accuracy_modulator_two).cpu().numpy()[:,5:2005], color='#C33C54', label='Modulator',\n",
    "       linewidth=3)\n",
    "plot_sd(unpack_list_of_list(accuracy_baseline_one).cpu().numpy()[:,5:2005], label='Baseline', linewidth=3, color='#E9EB87')\n",
    "plt.legend(loc=4, prop={'size': 12})\n",
    "plt.xticks(fontsize=12)\n",
    "plt.yticks(fontsize=12)\n",
    "plt.xlabel('Every 10 samples', fontsize=12)\n",
    "plt.ylabel('Accuracy', fontsize=12)\n",
    "plt.tight_layout()\n",
    "plt.savefig('result_3_accuracy_2.png', transparent=True)"
   ]
  },
  {
   "cell_type": "code",
   "execution_count": 124,
   "id": "8add8eeb",
   "metadata": {},
   "outputs": [
    {
     "data": {
      "image/png": "[encoded data removed]",
      "text/plain": [
       "<Figure size 432x288 with 2 Axes>"
      ]
     },
     "metadata": {
      "needs_background": "light"
     },
     "output_type": "display_data"
    }
   ],
   "source": [
    "import seaborn as sns\n",
    "# sns.set(font_scale=1.1)\n",
    "sns.heatmap(unpack_list_of_tensor(modulator_weights)[0,:1001].cpu().numpy().T, xticklabels=200, yticklabels=16)\n",
    "plt.xlabel('Every 10 samples', fontsize=12)\n",
    "plt.ylabel('Neuron index', fontsize=12)\n",
    "plt.tight_layout()\n",
    "# plt.savefig('result_1_weights.png', transparent=True)"
   ]
  },
  {
   "cell_type": "code",
   "execution_count": null,
   "id": "d35d32fd",
   "metadata": {},
   "outputs": [],
   "source": []
  }
 ],
 "metadata": {
  "kernelspec": {
   "display_name": "Python 3 (ipykernel)",
   "language": "python",
   "name": "python3"
  },
  "language_info": {
   "codemirror_mode": {
    "name": "ipython",
    "version": 3
   },
   "file_extension": ".py",
   "mimetype": "text/x-python",
   "name": "python",
   "nbconvert_exporter": "python",
   "pygments_lexer": "ipython3",
   "version": "3.9.7"
  }
 },
 "nbformat": 4,
 "nbformat_minor": 5
}
