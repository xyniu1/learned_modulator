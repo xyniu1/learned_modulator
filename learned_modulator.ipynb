{
 "cells": [
  {
   "cell_type": "code",
   "execution_count": 1,
   "id": "25f7bda6",
   "metadata": {},
   "outputs": [],
   "source": [
    "import numpy as np\n",
    "import matplotlib.pyplot as plt\n",
    "import seaborn as sns\n",
    "import torch\n",
    "import torchvision\n",
    "import torchvision.transforms as transforms\n",
    "# import ipynb_importer\n",
    "# import utils"
   ]
  },
  {
   "cell_type": "code",
   "execution_count": 2,
   "id": "acc76f8d",
   "metadata": {},
   "outputs": [],
   "source": [
    "transform = transforms.Compose([\n",
    "#     transforms.Resize(196),\n",
    "#     transforms.CenterCrop(224),\n",
    "    transforms.ToTensor()\n",
    "])\n",
    "\n",
    "train = torchvision.datasets.MNIST(root='./', train=True, transform=transform, download=True)\n",
    "test = torchvision.datasets.MNIST(root='./', train=False, transform=transform, download=True)\n",
    "train.data = train.data.float() / 255.0\n",
    "# train.data = (train.data - torch.mean(train.data, dim=(1,2), keepdim=True)) / torch.std(train.data, dim=(1,2), keepdim=True)\n",
    "# test.data = test.data / 255.0"
   ]
  },
  {
   "cell_type": "code",
   "execution_count": 3,
   "id": "90ccc4f9",
   "metadata": {},
   "outputs": [
    {
     "data": {
      "image/png": "[encoded data removed]",
      "text/plain": [
       "<Figure size 432x288 with 10 Axes>"
      ]
     },
     "metadata": {
      "needs_background": "light"
     },
     "output_type": "display_data"
    }
   ],
   "source": [
    "def binary_class(data, classes):\n",
    "    # classes is a list of two numbers\n",
    "    idx = torch.where(torch.isin(data.targets, torch.Tensor(classes)))[0]\n",
    "    idx_2 = torch.where(data.targets[idx] == classes[1])[0]\n",
    "    binary_labels = torch.zeros(len(idx))\n",
    "    binary_labels[idx_2] = 1.0\n",
    "    dataset = torch.utils.data.TensorDataset(data.data[idx], binary_labels)\n",
    "    dataset.data = data.data[idx]\n",
    "    return dataset, idx_2\n",
    "\n",
    "classes = [1,7]\n",
    "train_binary, idx_2 = binary_class(train, classes)\n",
    "test_binary,_ = binary_class(test, classes)\n",
    "\n",
    "# sanity check: input data\n",
    "for i in range(10):\n",
    "    plt.subplot(2,5,i+1)\n",
    "    plt.imshow(train_binary[i][0], cmap='gray')\n",
    "\n",
    "batch_size = 64\n",
    "# Dataloader\n",
    "trainloader_binary = torch.utils.data.DataLoader(train_binary, batch_size=batch_size, shuffle=True, num_workers=2)\n",
    "testloader_binary = torch.utils.data.DataLoader(test_binary, batch_size=batch_size, shuffle=False, num_workers=2)"
   ]
  },
  {
   "cell_type": "code",
   "execution_count": 4,
   "id": "40ed4768",
   "metadata": {},
   "outputs": [],
   "source": [
    "# model architecture\n",
    "M = len(torch.flatten(train[0][0]))\n",
    "n1 = 16\n",
    "n1_junk = 64\n",
    "n_classes = 10\n",
    "if torch.cuda.is_available():\n",
    "    device = torch.device(\"cuda:0\")\n",
    "else:\n",
    "    device = torch.device(\"cpu\")"
   ]
  },
  {
   "cell_type": "code",
   "execution_count": 5,
   "id": "8713c17d",
   "metadata": {},
   "outputs": [],
   "source": [
    "from torch import nn\n",
    "import torch.nn.functional as F\n",
    "\n",
    "def training(model, dataloader, optimizer, criterion, num_epoch=10, device='cpu', binary=False):\n",
    "    model.to(device)\n",
    "    model.train()\n",
    "    for epoch in range(num_epoch):  # loop over the dataset multiple times\n",
    "        running_loss = 0.0\n",
    "        correct = 0\n",
    "        total = 0\n",
    "        for i, data in enumerate(dataloader, 0):\n",
    "            # get the inputs; data is a list of [inputs, labels]\n",
    "            inputs, labels = data[0].to(device), data[1].to(device)\n",
    "            inputs = torch.squeeze(torch.flatten(inputs, start_dim=2), dim=1).float()\n",
    "            # zero the parameter gradients\n",
    "            optimizer.zero_grad()\n",
    "            # forward + backward + optimize\n",
    "            output = model(inputs)\n",
    "            loss = criterion(output, labels)\n",
    "            loss.backward()\n",
    "            optimizer.step()\n",
    "\n",
    "            # print statistics\n",
    "            running_loss += loss.item()\n",
    "            if binary:\n",
    "                predicted = torch.where(output.data < 0.5, 0, 1)\n",
    "            else:\n",
    "                _, predicted = torch.max(output.data, 1)\n",
    "            total += labels.size(0)\n",
    "            correct += (predicted == labels).sum().item()\n",
    "        print('(Epoch %d) loss: %.3f, accuracy: %.3f'%(epoch, running_loss/total, correct/total))\n",
    "    return model"
   ]
  },
  {
   "cell_type": "code",
   "execution_count": 6,
   "id": "48f1a825",
   "metadata": {},
   "outputs": [],
   "source": [
    "trainloader = torch.utils.data.DataLoader(train, batch_size=batch_size, shuffle=True, num_workers=2)\n",
    "testloader = torch.utils.data.DataLoader(test, batch_size=batch_size, shuffle=False, num_workers=2)"
   ]
  },
  {
   "cell_type": "code",
   "execution_count": 7,
   "id": "48b39e6a",
   "metadata": {},
   "outputs": [
    {
     "name": "stdout",
     "output_type": "stream",
     "text": [
      "(Epoch 0) loss: 0.026, accuracy: 0.413\n",
      "(Epoch 1) loss: 0.022, accuracy: 0.487\n",
      "(Epoch 2) loss: 0.021, accuracy: 0.497\n",
      "(Epoch 3) loss: 0.021, accuracy: 0.504\n",
      "(Epoch 4) loss: 0.021, accuracy: 0.508\n",
      "(Epoch 5) loss: 0.021, accuracy: 0.514\n",
      "(Epoch 6) loss: 0.020, accuracy: 0.518\n",
      "(Epoch 7) loss: 0.020, accuracy: 0.520\n",
      "(Epoch 8) loss: 0.020, accuracy: 0.524\n",
      "(Epoch 9) loss: 0.020, accuracy: 0.525\n"
     ]
    }
   ],
   "source": [
    "# pre-training w1\n",
    "class pre_one_layer(torch.nn.Module):\n",
    "    def __init__(self, M, n1, n_classes):\n",
    "        super().__init__()\n",
    "        self.fc1 = nn.Linear(M, n1, bias=False)\n",
    "        self.fc2 = nn.Linear(n1, n_classes, bias=False)\n",
    "    def forward(self, x):\n",
    "        x = self.fc1(x)\n",
    "        x = F.relu(x)\n",
    "        x = self.fc2(x)\n",
    "        return x\n",
    "\n",
    "batch_size = 64\n",
    "# Dataloader\n",
    "model_pre_one = pre_one_layer(M, n1, n_classes)\n",
    "criterion = torch.nn.CrossEntropyLoss()\n",
    "optimizer = torch.optim.Adam(model_pre_one.parameters())\n",
    "num_epoch = 10\n",
    "model_pre_one = training(model_pre_one, trainloader, optimizer, criterion, num_epoch=num_epoch, device=device)\n",
    "w1 = list(model_pre_one.parameters())[0]\n",
    "torch.save(w1, 'w1_range_16.pt')"
   ]
  },
  {
   "cell_type": "code",
   "execution_count": 8,
   "id": "5f3ad466",
   "metadata": {},
   "outputs": [
    {
     "name": "stdout",
     "output_type": "stream",
     "text": [
      "tensor([0.0000e+00, 1.4672e+01, 1.4645e-02, 1.0011e+01, 5.4062e-01, 2.7695e-04,\n",
      "        9.1593e-03, 2.5057e+00, 8.7459e-01, 0.0000e+00, 5.2721e+00, 4.4645e-01,\n",
      "        1.8293e-02, 5.0563e+00, 6.1030e-01, 2.0578e-03])\n"
     ]
    }
   ],
   "source": [
    "w1 = torch.load('w1_range_16.pt').data\n",
    "lambda_1 = torch.mean(F.relu(torch.mm(torch.flatten(train_binary.data.float(), start_dim=1), w1.T.to('cpu'))), dim=0)\n",
    "print(lambda_1)"
   ]
  },
  {
   "cell_type": "code",
   "execution_count": 9,
   "id": "a155b33b",
   "metadata": {},
   "outputs": [
    {
     "name": "stdout",
     "output_type": "stream",
     "text": [
      "(Epoch 0) loss: 0.011, accuracy: 0.679\n",
      "(Epoch 1) loss: 0.005, accuracy: 0.887\n",
      "(Epoch 2) loss: 0.004, accuracy: 0.913\n",
      "(Epoch 3) loss: 0.004, accuracy: 0.924\n",
      "(Epoch 4) loss: 0.004, accuracy: 0.933\n",
      "(Epoch 5) loss: 0.003, accuracy: 0.938\n",
      "(Epoch 6) loss: 0.003, accuracy: 0.945\n",
      "(Epoch 7) loss: 0.003, accuracy: 0.948\n",
      "(Epoch 8) loss: 0.003, accuracy: 0.948\n",
      "(Epoch 9) loss: 0.003, accuracy: 0.950\n"
     ]
    }
   ],
   "source": [
    "class baseline_one_layer(torch.nn.Module):\n",
    "    def __init__(self, n1, w1, n1_junk, junk=False, junk_mean=None, sigma_junk=None):\n",
    "        super().__init__()\n",
    "        self.w1 = w1\n",
    "        self.n1_junk = n1_junk\n",
    "        self.junk = junk\n",
    "        self.junk_mean = junk_mean\n",
    "        self.sigma_junk = sigma_junk\n",
    "        if junk:\n",
    "            n1_actual = n1 + n1_junk\n",
    "        else:\n",
    "            n1_actual = n1\n",
    "        self.gain_layer = nn.Linear(n1_actual, 1, bias=False)\n",
    "\n",
    "    def forward(self, x):\n",
    "        x = torch.mm(torch.flatten(x, start_dim=1), self.w1.T)\n",
    "        x = F.relu(x)\n",
    "        if self.junk:\n",
    "            x = torch.cat((x, torch.normal(self.junk_mean, self.sigma_junk, size=(x.size()[0],self.n1_junk)).to(device)),\n",
    "                         dim=1)    \n",
    "        x = self.gain_layer(x)\n",
    "        x = torch.sigmoid(x)\n",
    "        x = torch.squeeze(x, dim=-1)\n",
    "        return x\n",
    "\n",
    "junk = True\n",
    "junk_mean = torch.mean(torch.maximum(lambda_1, torch.zeros(lambda_1.size()))).item()\n",
    "# junk_mean = 0.0\n",
    "sigma_junk = torch.std(lambda_1).item()\n",
    "model_baseline_one = baseline_one_layer(n1, w1, n1_junk, junk, junk_mean, sigma_junk)\n",
    "criterion = torch.nn.BCELoss()\n",
    "optimizer = torch.optim.Adam(model_baseline_one.parameters())\n",
    "num_epoch = 10\n",
    "model_baseline_one = training(model_baseline_one, trainloader_binary, \n",
    "                              optimizer, criterion, num_epoch=num_epoch, device=device, binary=True)"
   ]
  },
  {
   "cell_type": "code",
   "execution_count": 10,
   "id": "411509d5",
   "metadata": {},
   "outputs": [
    {
     "data": {
      "text/plain": [
       "[Parameter containing:\n",
       " tensor([[ 0.0129,  0.2599, -0.6893, -0.2037,  0.7229,  0.0989,  0.5849, -0.4455,\n",
       "           0.9754,  0.0867,  0.6143, -0.9331,  1.1424, -0.1490,  0.6387,  0.1424,\n",
       "          -0.0114, -0.0186, -0.0190, -0.0195, -0.0109, -0.0168, -0.0171, -0.0209,\n",
       "          -0.0219, -0.0182, -0.0299, -0.0212, -0.0177, -0.0196, -0.0202, -0.0184,\n",
       "          -0.0192, -0.0151, -0.0129, -0.0209, -0.0204, -0.0236, -0.0239, -0.0160,\n",
       "          -0.0108, -0.0151, -0.0210, -0.0229, -0.0270, -0.0164, -0.0187, -0.0237,\n",
       "          -0.0275, -0.0227, -0.0348, -0.0201, -0.0233, -0.0106, -0.0208, -0.0223,\n",
       "          -0.0166, -0.0112, -0.0238, -0.0201, -0.0164, -0.0144, -0.0177, -0.0232,\n",
       "          -0.0236, -0.0239, -0.0177, -0.0227, -0.0132, -0.0184, -0.0236, -0.0188,\n",
       "          -0.0173, -0.0129, -0.0264, -0.0098, -0.0130, -0.0225, -0.0252, -0.0149]],\n",
       "        device='cuda:0', requires_grad=True)]"
      ]
     },
     "execution_count": 10,
     "metadata": {},
     "output_type": "execute_result"
    }
   ],
   "source": [
    "list(model_baseline_one.parameters())"
   ]
  },
  {
   "cell_type": "code",
   "execution_count": 101,
   "id": "1ffda62d",
   "metadata": {},
   "outputs": [],
   "source": [
    "class modulator_one_layer(torch.nn.Module):\n",
    "    # allow the flexibility of adding junk neurons\n",
    "    # allow the flexibility of weight correction\n",
    "    def __init__(self, n1, w1, m, sigma_m, T, tanh_k, a_cont, lr_a, sigma_w, sigma_s, device='cpu',\n",
    "                 junk=False, junk_mean=None, sigma_junk=None, n1_junk=None, correction=True):\n",
    "        # m is of size (batch)\n",
    "        super().__init__()\n",
    "        self.n1 = n1\n",
    "        self.w1 = w1\n",
    "        self.m = m\n",
    "        self.sigma_m = sigma_m\n",
    "        self.T = T\n",
    "        self.tanh_k = tanh_k\n",
    "        self.a_cont = a_cont\n",
    "        self.lr_a = lr_a\n",
    "        self.device = device\n",
    "        self.junk = junk\n",
    "        if junk:\n",
    "            self.n1_junk = n1_junk\n",
    "            self.junk_mean = junk_mean\n",
    "            self.sigma_junk = sigma_junk\n",
    "            self.n1_actual = n1 + n1_junk\n",
    "        else:\n",
    "            self.n1_actual = n1\n",
    "        w = torch.Tensor(self.n1_actual).to(device)\n",
    "        s = torch.Tensor(self.n1_actual).to(device)\n",
    "#         s = torch.Tensor(self.n1).to(device)\n",
    "        self.w = torch.nn.Parameter(w, requires_grad=True)\n",
    "        self.s = torch.nn.Parameter(s)\n",
    "        torch.nn.init.normal_(self.w, 0, sigma_w)\n",
    "        torch.nn.init.normal_(self.s, 0, sigma_s)\n",
    "        self.count = 0\n",
    "\n",
    "    def forward(self, x):\n",
    "        batch_size = x.size()[0]\n",
    "        x = torch.mm(torch.flatten(x, start_dim=1), self.w1.T)\n",
    "        x = F.relu(x)\n",
    "        if junk:\n",
    "#             print(x.size())\n",
    "#             print(torch.mean(x))\n",
    "            x = torch.cat((x, torch.normal(self.junk_mean, self.sigma_junk, size=(x.size()[0],self.n1_junk)).to(device)),\n",
    "                         dim=1)\n",
    "        if correction:\n",
    "            fluc = torch.exp(torch.outer(self.m, self.w) - self.sigma_m*self.sigma_m*self.w*self.w/2.0) # (T, num_neurons)\n",
    "        else:\n",
    "            fluc = torch.exp(torch.outer(self.m, self.w))\n",
    "        k = torch.mul(torch.unsqueeze(x, dim=0), torch.unsqueeze(fluc, dim=1)) # (T, batch, num_neurons)\n",
    "        a = torch.sum(torch.mul(torch.reshape(self.m, (-1,1,1)), k), dim=0) / self.T # (batch, num_neurons)\n",
    "#         print(a)\n",
    "        a = self.lr_a * a + (1-self.lr_a) * a_cont\n",
    "        if self.count > 1000:\n",
    "#             tanh_k_ = self.tanh_k * np.log(self.count)\n",
    "            tanh_k_ = 1000.0 # an arbitrary large number\n",
    "        else:\n",
    "            tanh_k_ = self.tanh_k\n",
    "        sign = torch.tanh(tanh_k_ * self.s) # (n1_actual)\n",
    "        # one sample can only compute the gradient once\n",
    "        x = torch.sum(sign * a * torch.mean(k, dim=0), dim=1)\n",
    "#         print([torch.sum((sign * a * torch.mean(k, dim=0))[0,:16]), torch.sum((sign * a * torch.mean(k, dim=0))[0,16:])])\n",
    "        x = torch.sigmoid(x)\n",
    "        self.a_cont = torch.mean(a, dim=0)\n",
    "#         print(self.a_cont)\n",
    "        self.count += x.size()[0]\n",
    "        return x"
   ]
  },
  {
   "cell_type": "code",
   "execution_count": 121,
   "id": "eb9db3ca",
   "metadata": {},
   "outputs": [
    {
     "name": "stdout",
     "output_type": "stream",
     "text": [
      "(Epoch 0) loss: 0.113, accuracy: 0.784\n",
      "(Epoch 1) loss: 0.034, accuracy: 0.917\n",
      "(Epoch 2) loss: 0.026, accuracy: 0.935\n",
      "(Epoch 3) loss: 0.022, accuracy: 0.941\n",
      "(Epoch 4) loss: 0.017, accuracy: 0.943\n",
      "(Epoch 5) loss: 0.017, accuracy: 0.943\n",
      "(Epoch 6) loss: 0.014, accuracy: 0.945\n",
      "(Epoch 7) loss: 0.012, accuracy: 0.946\n",
      "(Epoch 8) loss: 0.011, accuracy: 0.943\n",
      "(Epoch 9) loss: 0.010, accuracy: 0.943\n"
     ]
    }
   ],
   "source": [
    "# sigma_w = 0.3\n",
    "sigma_w = 0.1\n",
    "sigma_s = 0.02\n",
    "# sigma_s = 0.1\n",
    "# sigma_m = 0.05\n",
    "sigma_m = 0.1\n",
    "# m_mean = 0.0\n",
    "m_mean = 1.0\n",
    "# T = 50\n",
    "T = 200\n",
    "m = torch.normal(m_mean, sigma_m, size=(T,))\n",
    "m = m.to(device)\n",
    "lr_a = 0.1\n",
    "tanh_k = 10.0\n",
    "# tanh_k = 50.0\n",
    "junk = True\n",
    "junk_mean = torch.mean(torch.maximum(lambda_1, torch.zeros(lambda_1.size()))).item()\n",
    "# junk_mean = 0.0\n",
    "sigma_junk = torch.std(lambda_1).item()\n",
    "if junk:\n",
    "    a_cont = torch.normal(0, 0.1, size=(n1 + n1_junk,))\n",
    "else:\n",
    "    a_cont = torch.normal(0, 0.1, size=(n1,))\n",
    "a_cont = a_cont.to(device)\n",
    "correction = True\n",
    "\n",
    "model_modulator_one = modulator_one_layer(n1, w1, m, sigma_m, T, tanh_k, a_cont, lr_a, sigma_w, sigma_s, device=device,\n",
    "                 junk=junk, junk_mean=junk_mean, sigma_junk=sigma_junk, n1_junk=n1_junk, correction=correction)\n",
    "criterion = torch.nn.BCELoss()\n",
    "optimizer = torch.optim.Adam(model_modulator_one.parameters(), lr=0.01)\n",
    "num_epoch = 10\n",
    "model_modulator_one = training(model_modulator_one, trainloader_binary, \n",
    "                              optimizer, criterion, num_epoch=num_epoch, device=device, binary=True)"
   ]
  },
  {
   "cell_type": "code",
   "execution_count": 122,
   "id": "93a45d34",
   "metadata": {},
   "outputs": [],
   "source": [
    "w = list(model_modulator_one.parameters())[0]\n",
    "s = list(model_modulator_one.parameters())[1]"
   ]
  },
  {
   "cell_type": "code",
   "execution_count": 123,
   "id": "ed02987a",
   "metadata": {},
   "outputs": [
    {
     "data": {
      "text/plain": [
       "[<matplotlib.lines.Line2D at 0x14e398ea57c0>]"
      ]
     },
     "execution_count": 123,
     "metadata": {},
     "output_type": "execute_result"
    },
    {
     "data": {
      "image/png": "[encoded data removed]",
      "text/plain": [
       "<Figure size 432x288 with 1 Axes>"
      ]
     },
     "metadata": {
      "needs_background": "light"
     },
     "output_type": "display_data"
    }
   ],
   "source": [
    "plt.plot(np.tanh(tanh_k*100*s.cpu().detach().numpy()))"
   ]
  },
  {
   "cell_type": "code",
   "execution_count": 124,
   "id": "0aeac40a",
   "metadata": {},
   "outputs": [],
   "source": [
    "idx_1 = set(torch.arange(len(train_binary.data))) - set(idx_2)\n",
    "lambda_c1 = F.relu(torch.mm(torch.flatten(train_binary.data.float()[list(idx_1)], start_dim=1), \n",
    "                                       w1.T.to('cpu')))\n",
    "lambda_c2 = F.relu(torch.mm(torch.flatten(train_binary.data.float()[list(idx_2)], start_dim=1), \n",
    "                                       w1.T.to('cpu')))\n",
    "l1, sd1 = torch.mean(lambda_c1, dim=0), torch.std(lambda_c1, dim=0)\n",
    "l2, sd2 = torch.mean(lambda_c2, dim=0), torch.std(lambda_c2, dim=0)\n",
    "d_prime = torch.abs(l1-l2) / (torch.sqrt(sd1*sd1+sd2*sd2) / 2.0 + 0.001)"
   ]
  },
  {
   "cell_type": "code",
   "execution_count": 125,
   "id": "942de731",
   "metadata": {},
   "outputs": [
    {
     "data": {
      "text/plain": [
       "array([[ 1.        , -0.05118783],\n",
       "       [-0.05118783,  1.        ]])"
      ]
     },
     "execution_count": 125,
     "metadata": {},
     "output_type": "execute_result"
    }
   ],
   "source": [
    "np.corrcoef(w.cpu().detach().numpy()[:n1], d_prime.cpu().detach().numpy())"
   ]
  },
  {
   "cell_type": "code",
   "execution_count": 135,
   "id": "3ae8dfd4",
   "metadata": {},
   "outputs": [
    {
     "data": {
      "text/plain": [
       "[<matplotlib.lines.Line2D at 0x14e3994802e0>]"
      ]
     },
     "execution_count": 135,
     "metadata": {},
     "output_type": "execute_result"
    },
    {
     "data": {
      "image/png": "[encoded data removed]",
      "text/plain": [
       "<Figure size 432x288 with 1 Axes>"
      ]
     },
     "metadata": {
      "needs_background": "light"
     },
     "output_type": "display_data"
    }
   ],
   "source": [
    "plt.plot(w.cpu().detach().numpy()[:16])\n",
    "plt.plot(d_prime.cpu().detach().numpy())\n",
    "plt.plot(model_modulator_one.a_cont.cpu().detach().numpy()[:16])\n",
    "plt.plot(l1)\n",
    "plt.plot(l2)"
   ]
  },
  {
   "cell_type": "code",
   "execution_count": 127,
   "id": "e3f48364",
   "metadata": {},
   "outputs": [
    {
     "name": "stdout",
     "output_type": "stream",
     "text": [
      "2.5021109580993652\n"
     ]
    }
   ],
   "source": [
    "print(junk_mean)"
   ]
  },
  {
   "cell_type": "code",
   "execution_count": 128,
   "id": "f5237293",
   "metadata": {},
   "outputs": [
    {
     "name": "stdout",
     "output_type": "stream",
     "text": [
      "4.294131278991699\n"
     ]
    }
   ],
   "source": [
    "print(sigma_junk)"
   ]
  },
  {
   "cell_type": "code",
   "execution_count": 130,
   "id": "cfe09f97",
   "metadata": {},
   "outputs": [
    {
     "data": {
      "text/plain": [
       "array([[1.        , 0.73226246],\n",
       "       [0.73226246, 1.        ]])"
      ]
     },
     "execution_count": 130,
     "metadata": {},
     "output_type": "execute_result"
    },
    {
     "data": {
      "image/png": "[encoded data removed]",
      "text/plain": [
       "<Figure size 432x288 with 1 Axes>"
      ]
     },
     "metadata": {
      "needs_background": "light"
     },
     "output_type": "display_data"
    }
   ],
   "source": [
    "# plt.plot(d_prime.cpu().detach().numpy())\n",
    "plt.plot(model_modulator_one.a_cont.cpu().detach().numpy()[:16])\n",
    "np.corrcoef(d_prime.cpu().detach().numpy(), model_modulator_one.a_cont.cpu().detach().numpy()[:16])"
   ]
  },
  {
   "cell_type": "code",
   "execution_count": 23,
   "id": "893fa519",
   "metadata": {},
   "outputs": [
    {
     "data": {
      "text/plain": [
       "torch.Size([128])"
      ]
     },
     "execution_count": 23,
     "metadata": {},
     "output_type": "execute_result"
    }
   ],
   "source": [
    "model_modulator_one.a_cont.size()"
   ]
  },
  {
   "cell_type": "code",
   "execution_count": null,
   "id": "2ee99665",
   "metadata": {},
   "outputs": [],
   "source": []
  }
 ],
 "metadata": {
  "kernelspec": {
   "display_name": "manifold",
   "language": "python",
   "name": "manifold"
  },
  "language_info": {
   "codemirror_mode": {
    "name": "ipython",
    "version": 3
   },
   "file_extension": ".py",
   "mimetype": "text/x-python",
   "name": "python",
   "nbconvert_exporter": "python",
   "pygments_lexer": "ipython3",
   "version": "3.9.7"
  }
 },
 "nbformat": 4,
 "nbformat_minor": 5
}
